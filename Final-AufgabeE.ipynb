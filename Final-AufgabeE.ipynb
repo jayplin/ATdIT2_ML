{
 "cells": [
  {
   "cell_type": "markdown",
   "metadata": {},
   "source": [
    "# E KNN and K-means CIFAR\n",
    "_5 points_\n",
    "\n",
    "transform cifar-10 to grayscale. \n",
    "\n",
    "- Does knn work similarly good?\n",
    "- Does k-means work similarly good?\n",
    "- Demonstrate this similar to  B, C and D"
   ]
  },
  {
   "cell_type": "code",
   "execution_count": 1,
   "metadata": {},
   "outputs": [
    {
     "name": "stderr",
     "output_type": "stream",
     "text": [
      "/usr/local/envs/py3env/lib/python3.5/site-packages/h5py/__init__.py:36: FutureWarning: Conversion of the second argument of issubdtype from `float` to `np.floating` is deprecated. In future, it will be treated as `np.float64 == np.dtype(float).type`.\n",
      "  from ._conv import register_converters as _register_converters\n"
     ]
    },
    {
     "data": {
      "text/plain": [
       "<matplotlib.figure.Figure at 0x7fef2f36a320>"
      ]
     },
     "metadata": {},
     "output_type": "display_data"
    }
   ],
   "source": [
    "import tensorflow as tf\n",
    "import numpy as np\n",
    "import matplotlib.pyplot as plt\n",
    "\n",
    "plt.set_cmap(None)"
   ]
  },
  {
   "cell_type": "markdown",
   "metadata": {},
   "source": [
    "# CIFAR-10 Dataset\n",
    "\n",
    "https://www.cs.toronto.edu/~kriz/cifar.html"
   ]
  },
  {
   "cell_type": "markdown",
   "metadata": {},
   "source": [
    "## Download and prepare Data"
   ]
  },
  {
   "cell_type": "code",
   "execution_count": 2,
   "metadata": {},
   "outputs": [],
   "source": [
    "cifar_train = tf.keras.datasets.cifar10.load_data()[0]\n",
    "cifar_test = tf.keras.datasets.cifar10.load_data()[1]\n",
    "\n",
    "train_image, train_label = cifar_train[0], cifar_train[1]\n",
    "test_image, test_label = cifar_test[0], cifar_test[1]\n",
    "\n",
    "\n",
    "\n",
    "\n"
   ]
  },
  {
   "cell_type": "markdown",
   "metadata": {},
   "source": [
    "## Turn pictures to grayscale"
   ]
  },
  {
   "cell_type": "code",
   "execution_count": 3,
   "metadata": {},
   "outputs": [
    {
     "data": {
      "text/plain": [
       "<matplotlib.figure.Figure at 0x7fef3e5f1898>"
      ]
     },
     "metadata": {},
     "output_type": "display_data"
    }
   ],
   "source": [
    "# Auxiliary function for turning an RGB image to Gray-scale image\n",
    "def rgb2gray(rgb):\n",
    "    return np.dot(rgb[...,:3], [0.299, 0.587, 0.114])\n",
    "\n",
    "train_image = rgb2gray(train_image)\n",
    "test_image = rgb2gray(test_image)\n",
    "plt.set_cmap('gray')\n"
   ]
  },
  {
   "cell_type": "markdown",
   "metadata": {},
   "source": [
    "## Reshaping"
   ]
  },
  {
   "cell_type": "code",
   "execution_count": 4,
   "metadata": {},
   "outputs": [
    {
     "name": "stdout",
     "output_type": "stream",
     "text": [
      "(100, 32, 32)\n",
      "(1000, 32, 32)\n"
     ]
    }
   ],
   "source": [
    "train_size = 100\n",
    "test_size = 1000\n",
    "\n",
    "train_image = train_image[:train_size]\n",
    "train_label = train_label[:train_size]\n",
    "\n",
    "test_image = test_image[:test_size]\n",
    "test_label = test_label[:test_size]\n",
    "\n",
    "n_train = train_image.shape[0]\n",
    "n_test = test_image.shape[0]\n",
    "\n",
    "m = train_image.shape[1]**2\n",
    "\n",
    "print(train_image.shape)\n",
    "print(test_image.shape)\n",
    "\n",
    "train_image = train_image.reshape([n_train, m])\n",
    "test_image = test_image.reshape([n_test, m])"
   ]
  },
  {
   "cell_type": "markdown",
   "metadata": {},
   "source": [
    "## Algorithm"
   ]
  },
  {
   "cell_type": "markdown",
   "metadata": {},
   "source": [
    "## KMeans"
   ]
  },
  {
   "cell_type": "markdown",
   "metadata": {},
   "source": [
    "Wir clustern nur Test Sample, für schnellere Laufzeiten."
   ]
  },
  {
   "cell_type": "code",
   "execution_count": 29,
   "metadata": {},
   "outputs": [],
   "source": [
    "from sklearn.cluster import KMeans\n"
   ]
  },
  {
   "cell_type": "markdown",
   "metadata": {},
   "source": [
    "### Analyis of the clusters (Similar to C)"
   ]
  },
  {
   "cell_type": "code",
   "execution_count": 33,
   "metadata": {},
   "outputs": [],
   "source": [
    "from sklearn.metrics.cluster import homogeneity_score\n",
    "#flatten array to have one dimension less\n",
    "#for correct format in homogeneity score method\n",
    "test_label = test_label.flatten()\n",
    "\n",
    "def doKmeans(iter):\n",
    "  n_digits = len(np.unique(test_label))\n",
    "\n",
    "  kmeans = KMeans(init='k-means++', n_clusters=n_digits, n_init=10, n_jobs=-1, verbose=0, max_iter=iter)\n",
    "\n",
    "  X_test_local = test_image.reshape([n_test, m])\n",
    "  #print(X_test_local.shape)\n",
    "  #print(Y_test.shape)\n",
    "\n",
    "  kmeans.fit(X_test_local)\n",
    "\n",
    "  for y in range(10):\n",
    "      print(\"\\nCluster: %d\" % (y))\n",
    "      cluster = (np.array([i for i, x in enumerate(kmeans.labels_) if x == y]))\n",
    "      labels_cluster_1 = test_label[cluster]\n",
    "      len_cluster = len(labels_cluster_1)\n",
    "\n",
    "      unique, counts = np.unique(labels_cluster_1, return_counts=True)\n",
    "      counts_dict = dict(zip(unique, counts))\n",
    "      majority_class = max(counts_dict.items(), key=lambda k: k[1])[0]\n",
    "\n",
    "      print(counts_dict)\n",
    "      print(\"Percentage of majority class: %f\" % (max(counts)/float(len_cluster)))\n",
    "      print(\"Majority class is: %d\" % (majority_class))\n",
    "\n",
    "\n",
    "      print(\"Laenge: \", len_cluster)\n",
    "      print(\"Homogeneity Score for %d: %f\" %( iter, homogeneity_score(test_label, kmeans.labels_)))\n",
    "      "
   ]
  },
  {
   "cell_type": "code",
   "execution_count": 34,
   "metadata": {},
   "outputs": [
    {
     "name": "stdout",
     "output_type": "stream",
     "text": [
      "\n",
      "\n",
      "________________________________________________________________________________\n",
      "Anzahl Iterations 10\n",
      "________________________________________________________________________________\n",
      "\n",
      "Cluster: 0\n",
      "{0: 5, 1: 12, 2: 12, 3: 11, 4: 6, 5: 6, 6: 20, 7: 6, 8: 9, 9: 10}\n",
      "Percentage of majority class: 0.206186\n",
      "Majority class is: 6\n",
      "Laenge:  97\n",
      "Homogeneity Score for 10: 0.094664\n",
      "\n",
      "Cluster: 1\n",
      "{0: 6, 1: 4, 2: 7, 3: 3, 4: 4, 5: 5, 6: 2, 7: 6, 8: 4, 9: 6}\n",
      "Percentage of majority class: 0.148936\n",
      "Majority class is: 2\n",
      "Laenge:  47\n",
      "Homogeneity Score for 10: 0.094664\n",
      "\n",
      "Cluster: 2\n",
      "{0: 10, 1: 1, 2: 3, 4: 1, 5: 4, 6: 2, 7: 2, 8: 4}\n",
      "Percentage of majority class: 0.370370\n",
      "Majority class is: 0\n",
      "Laenge:  27\n",
      "Homogeneity Score for 10: 0.094664\n",
      "\n",
      "Cluster: 3\n",
      "{0: 9, 1: 3, 3: 1, 4: 2, 6: 1, 7: 2, 8: 7, 9: 19}\n",
      "Percentage of majority class: 0.431818\n",
      "Majority class is: 9\n",
      "Laenge:  44\n",
      "Homogeneity Score for 10: 0.094664\n",
      "\n",
      "Cluster: 4\n",
      "{0: 2, 1: 4, 2: 4, 3: 4, 4: 5, 6: 8, 7: 3, 9: 1}\n",
      "Percentage of majority class: 0.258065\n",
      "Majority class is: 6\n",
      "Laenge:  31\n",
      "Homogeneity Score for 10: 0.094664\n",
      "\n",
      "Cluster: 5\n",
      "{0: 5, 1: 4, 2: 7, 3: 8, 4: 3, 5: 6, 6: 7, 7: 6, 8: 6, 9: 9}\n",
      "Percentage of majority class: 0.147541\n",
      "Majority class is: 9\n",
      "Laenge:  61\n",
      "Homogeneity Score for 10: 0.094664\n",
      "\n",
      "Cluster: 6\n",
      "{0: 9, 1: 2, 2: 10, 3: 7, 4: 10, 5: 9, 6: 4, 7: 6, 8: 9, 9: 5}\n",
      "Percentage of majority class: 0.140845\n",
      "Majority class is: 2\n",
      "Laenge:  71\n",
      "Homogeneity Score for 10: 0.094664\n",
      "\n",
      "Cluster: 7\n",
      "{0: 1, 1: 3, 2: 4, 3: 10, 4: 2, 5: 6, 6: 4, 7: 2, 8: 1}\n",
      "Percentage of majority class: 0.303030\n",
      "Majority class is: 3\n",
      "Laenge:  33\n",
      "Homogeneity Score for 10: 0.094664\n",
      "\n",
      "Cluster: 8\n",
      "{0: 6, 1: 4, 3: 1, 4: 1, 5: 1, 7: 4, 8: 13, 9: 5}\n",
      "Percentage of majority class: 0.371429\n",
      "Majority class is: 8\n",
      "Laenge:  35\n",
      "Homogeneity Score for 10: 0.094664\n",
      "\n",
      "Cluster: 9\n",
      "{0: 4, 1: 4, 2: 4, 3: 4, 4: 6, 5: 11, 6: 6, 7: 10, 8: 4, 9: 1}\n",
      "Percentage of majority class: 0.203704\n",
      "Majority class is: 5\n",
      "Laenge:  54\n",
      "Homogeneity Score for 10: 0.094664\n",
      "\n",
      "\n",
      "\n",
      "________________________________________________________________________________\n",
      "________________________________________________________________________________\n",
      "\n",
      "\n",
      "________________________________________________________________________________\n",
      "Anzahl Iterations 100\n",
      "________________________________________________________________________________\n",
      "\n",
      "Cluster: 0\n",
      "{0: 14, 1: 6, 2: 19, 3: 10, 4: 13, 5: 13, 6: 8, 7: 12, 8: 9, 9: 8}\n",
      "Percentage of majority class: 0.169643\n",
      "Majority class is: 2\n",
      "Laenge:  112\n",
      "Homogeneity Score for 100: 0.096531\n",
      "\n",
      "Cluster: 1\n",
      "{0: 3, 1: 4, 2: 3, 3: 2, 4: 2, 6: 6, 7: 2}\n",
      "Percentage of majority class: 0.272727\n",
      "Majority class is: 6\n",
      "Laenge:  22\n",
      "Homogeneity Score for 100: 0.096531\n",
      "\n",
      "Cluster: 2\n",
      "{0: 3, 1: 7, 2: 5, 3: 9, 5: 4, 6: 6, 7: 1, 8: 4, 9: 4}\n",
      "Percentage of majority class: 0.209302\n",
      "Majority class is: 3\n",
      "Laenge:  43\n",
      "Homogeneity Score for 100: 0.096531\n",
      "\n",
      "Cluster: 3\n",
      "{0: 5, 1: 6, 2: 1, 3: 2, 4: 1, 5: 2, 6: 1, 7: 5, 8: 14, 9: 6}\n",
      "Percentage of majority class: 0.325581\n",
      "Majority class is: 8\n",
      "Laenge:  43\n",
      "Homogeneity Score for 100: 0.096531\n",
      "\n",
      "Cluster: 4\n",
      "{0: 11, 1: 2, 2: 3, 3: 1, 4: 2, 5: 5, 6: 2, 7: 3, 8: 4}\n",
      "Percentage of majority class: 0.333333\n",
      "Majority class is: 0\n",
      "Laenge:  33\n",
      "Homogeneity Score for 100: 0.096531\n",
      "\n",
      "Cluster: 5\n",
      "{0: 8, 1: 4, 2: 7, 3: 8, 4: 6, 5: 3, 6: 6, 7: 9, 8: 10, 9: 15}\n",
      "Percentage of majority class: 0.197368\n",
      "Majority class is: 9\n",
      "Laenge:  76\n",
      "Homogeneity Score for 100: 0.096531\n",
      "\n",
      "Cluster: 6\n",
      "{0: 9, 1: 2, 3: 1, 5: 1, 6: 2, 7: 2, 8: 9, 9: 18}\n",
      "Percentage of majority class: 0.409091\n",
      "Majority class is: 9\n",
      "Laenge:  44\n",
      "Homogeneity Score for 100: 0.096531\n",
      "\n",
      "Cluster: 7\n",
      "{0: 1, 1: 3, 2: 4, 3: 6, 4: 3, 5: 5, 6: 4, 7: 3, 8: 2, 9: 1}\n",
      "Percentage of majority class: 0.187500\n",
      "Majority class is: 3\n",
      "Laenge:  32\n",
      "Homogeneity Score for 100: 0.096531\n",
      "\n",
      "Cluster: 8\n",
      "{0: 3, 1: 1, 2: 5, 3: 5, 4: 6, 5: 9, 6: 6, 7: 7, 8: 4}\n",
      "Percentage of majority class: 0.195652\n",
      "Majority class is: 5\n",
      "Laenge:  46\n",
      "Homogeneity Score for 100: 0.096531\n",
      "\n",
      "Cluster: 9\n",
      "{1: 6, 2: 4, 3: 5, 4: 7, 5: 6, 6: 13, 7: 3, 8: 1, 9: 4}\n",
      "Percentage of majority class: 0.265306\n",
      "Majority class is: 6\n",
      "Laenge:  49\n",
      "Homogeneity Score for 100: 0.096531\n",
      "\n",
      "\n",
      "\n",
      "________________________________________________________________________________\n",
      "________________________________________________________________________________\n",
      "\n",
      "\n",
      "________________________________________________________________________________\n",
      "Anzahl Iterations 1000\n",
      "________________________________________________________________________________\n",
      "\n",
      "Cluster: 0\n",
      "{0: 8, 1: 2, 3: 1, 4: 1, 6: 1, 7: 2, 8: 4, 9: 10}\n",
      "Percentage of majority class: 0.344828\n",
      "Majority class is: 9\n",
      "Laenge:  29\n",
      "Homogeneity Score for 1000: 0.098267\n",
      "\n",
      "Cluster: 1\n",
      "{0: 8, 1: 2, 2: 9, 3: 8, 4: 4, 5: 9, 6: 5, 7: 4, 8: 7, 9: 2}\n",
      "Percentage of majority class: 0.155172\n",
      "Majority class is: 2\n",
      "Laenge:  58\n",
      "Homogeneity Score for 1000: 0.098267\n",
      "\n",
      "Cluster: 2\n",
      "{0: 5, 1: 2, 2: 11, 3: 5, 4: 6, 5: 5, 6: 3, 7: 7, 8: 4, 9: 3}\n",
      "Percentage of majority class: 0.215686\n",
      "Majority class is: 2\n",
      "Laenge:  51\n",
      "Homogeneity Score for 1000: 0.098267\n",
      "\n",
      "Cluster: 3\n",
      "{0: 1, 1: 4, 2: 4, 3: 9, 4: 4, 5: 10, 6: 6, 7: 8, 8: 2, 9: 1}\n",
      "Percentage of majority class: 0.204082\n",
      "Majority class is: 5\n",
      "Laenge:  49\n",
      "Homogeneity Score for 1000: 0.098267\n",
      "\n",
      "Cluster: 4\n",
      "{0: 3, 1: 10, 2: 10, 3: 9, 4: 6, 5: 7, 6: 18, 7: 2, 8: 5, 9: 6}\n",
      "Percentage of majority class: 0.236842\n",
      "Majority class is: 6\n",
      "Laenge:  76\n",
      "Homogeneity Score for 1000: 0.098267\n",
      "\n",
      "Cluster: 5\n",
      "{0: 7, 1: 6, 2: 8, 3: 4, 4: 11, 5: 7, 6: 9, 7: 11, 8: 6, 9: 9}\n",
      "Percentage of majority class: 0.141026\n",
      "Majority class is: 4\n",
      "Laenge:  78\n",
      "Homogeneity Score for 1000: 0.098267\n",
      "\n",
      "Cluster: 6\n",
      "{0: 3, 1: 5, 2: 4, 3: 6, 4: 5, 6: 8, 7: 3, 9: 1}\n",
      "Percentage of majority class: 0.228571\n",
      "Majority class is: 6\n",
      "Laenge:  35\n",
      "Homogeneity Score for 1000: 0.098267\n",
      "\n",
      "Cluster: 7\n",
      "{0: 7, 1: 5, 2: 3, 3: 7, 4: 2, 5: 4, 6: 2, 7: 7, 8: 10, 9: 13}\n",
      "Percentage of majority class: 0.216667\n",
      "Majority class is: 9\n",
      "Laenge:  60\n",
      "Homogeneity Score for 1000: 0.098267\n",
      "\n",
      "Cluster: 8\n",
      "{0: 9, 2: 2, 5: 3, 6: 1, 7: 1, 8: 4}\n",
      "Percentage of majority class: 0.450000\n",
      "Majority class is: 0\n",
      "Laenge:  20\n",
      "Homogeneity Score for 1000: 0.098267\n",
      "\n",
      "Cluster: 9\n",
      "{0: 6, 1: 5, 4: 1, 5: 3, 6: 1, 7: 2, 8: 15, 9: 11}\n",
      "Percentage of majority class: 0.340909\n",
      "Majority class is: 8\n",
      "Laenge:  44\n",
      "Homogeneity Score for 1000: 0.098267\n",
      "\n",
      "\n",
      "\n",
      "________________________________________________________________________________\n",
      "________________________________________________________________________________\n"
     ]
    }
   ],
   "source": [
    "iter = [10,100,1000]\n",
    "for x in range(len(iter)):\n",
    "  print()\n",
    "  print()\n",
    "  print(\"________________________________________________________________________________\")\n",
    "  print(\"Anzahl Iterations %d\" %iter[x])\n",
    "  print(\"________________________________________________________________________________\")\n",
    "  \n",
    "  doKmeans(iter[x])\n",
    "  # have some whitespacese\n",
    "  print()\n",
    "  print()\n",
    "  print()\n",
    "  print(\"________________________________________________________________________________\")\n",
    "  print(\"________________________________________________________________________________\")\n",
    "\n"
   ]
  },
  {
   "cell_type": "markdown",
   "metadata": {},
   "source": [
    "### Gedanken zu Kmeans mit Cifar\n",
    "- der Algorithmus funktioniert hier sehr schlecht. Es wurde so gut wie nicht geclustert. Das können wir an der Homogenität von 0,09 erkennen. \n",
    "- Bei Mnist haben wir eine Homogenität von über 0,5"
   ]
  },
  {
   "cell_type": "markdown",
   "metadata": {},
   "source": [
    "## KNN"
   ]
  },
  {
   "cell_type": "markdown",
   "metadata": {},
   "source": [
    "### Execute Black Magic"
   ]
  },
  {
   "cell_type": "code",
   "execution_count": 5,
   "metadata": {},
   "outputs": [
    {
     "name": "stderr",
     "output_type": "stream",
     "text": [
      "/usr/local/envs/py3env/lib/python3.5/site-packages/ipykernel/__main__.py:6: DataConversionWarning: A column-vector y was passed when a 1d array was expected. Please change the shape of y to (n_samples, ), for example using ravel().\n"
     ]
    }
   ],
   "source": [
    "from sklearn.metrics import classification_report #needed for differentiating accuracy for each digit\n",
    "from sklearn.neighbors import KNeighborsClassifier\n",
    "from sklearn import metrics\n",
    "\n",
    "neigh = KNeighborsClassifier(n_neighbors=8, n_jobs=-1)#since we have to try it with k = 2,4,6,8\n",
    "neigh.fit(train_image, train_label)\n",
    "pred = neigh.predict(test_image)"
   ]
  },
  {
   "cell_type": "code",
   "execution_count": 6,
   "metadata": {},
   "outputs": [
    {
     "name": "stdout",
     "output_type": "stream",
     "text": [
      "Score: 0.135000\n",
      "             precision    recall  f1-score   support\n",
      "\n",
      "          0       0.08      0.02      0.03       103\n",
      "          1       0.17      0.04      0.07        89\n",
      "          2       0.10      0.29      0.15       100\n",
      "          3       0.17      0.24      0.20       103\n",
      "          4       0.11      0.46      0.18        90\n",
      "          5       0.00      0.00      0.00        86\n",
      "          6       0.00      0.00      0.00       112\n",
      "          7       0.17      0.01      0.02       102\n",
      "          8       0.33      0.04      0.07       106\n",
      "          9       0.26      0.27      0.26       109\n",
      "\n",
      "avg / total       0.14      0.14      0.10      1000\n",
      "\n"
     ]
    }
   ],
   "source": [
    "print(\"Score: %f\" % neigh.score(test_image, test_label))\n",
    "from sklearn.metrics import classification_report #needed for differentiating accuracy for each digit\n",
    "\n",
    "classification_report = classification_report(test_label, pred)\n",
    "\n",
    "print(classification_report)"
   ]
  },
  {
   "cell_type": "markdown",
   "metadata": {},
   "source": [
    "## analysis like in B with different Ks"
   ]
  },
  {
   "cell_type": "code",
   "execution_count": null,
   "metadata": {},
   "outputs": [],
   "source": []
  },
  {
   "cell_type": "code",
   "execution_count": null,
   "metadata": {},
   "outputs": [],
   "source": []
  },
  {
   "cell_type": "code",
   "execution_count": null,
   "metadata": {},
   "outputs": [],
   "source": []
  }
 ],
 "metadata": {
  "kernelspec": {
   "display_name": "Python 3",
   "language": "python",
   "name": "python3"
  },
  "language_info": {
   "codemirror_mode": {
    "name": "ipython",
    "version": 3
   },
   "file_extension": ".py",
   "mimetype": "text/x-python",
   "name": "python",
   "nbconvert_exporter": "python",
   "pygments_lexer": "ipython3",
   "version": "3.5.5"
  }
 },
 "nbformat": 4,
 "nbformat_minor": 2
}
