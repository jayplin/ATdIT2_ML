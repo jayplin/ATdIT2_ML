{
 "cells": [
  {
   "cell_type": "markdown",
   "metadata": {},
   "source": [
    "# A KNN\n",
    "_2 points_\n",
    "\n",
    "- How many distances you need to calculate if you have 60,000 samples in the trainingset for 50 samples? \n",
    "- How many distances do you need to calculate if you have n samples im the trainingset?"
   ]
  },
  {
   "cell_type": "markdown",
   "metadata": {},
   "source": [
    "## Answer Q1:\n",
    "\n",
    "\n",
    "\n",
    "- 60.000 samples in trainingsset * 50 samples"
   ]
  },
  {
   "cell_type": "code",
   "execution_count": 12,
   "metadata": {},
   "outputs": [
    {
     "name": "stdout",
     "output_type": "stream",
     "text": [
      "3000000 distances to calculate\n"
     ]
    }
   ],
   "source": [
    "print (\"%d distances to calculate\" %(60000*50))"
   ]
  },
  {
   "cell_type": "markdown",
   "metadata": {},
   "source": [
    "## Answer Q2:\n",
    "\n",
    "\n",
    "\n",
    "- n samples in trainingsset * 50 samples\n",
    "\n",
    "=> 50n"
   ]
  }
 ],
 "metadata": {
  "kernelspec": {
   "display_name": "Python 3",
   "language": "python",
   "name": "python3"
  },
  "language_info": {
   "codemirror_mode": {
    "name": "ipython",
    "version": 3
   },
   "file_extension": ".py",
   "mimetype": "text/x-python",
   "name": "python",
   "nbconvert_exporter": "python",
   "pygments_lexer": "ipython3",
   "version": "3.5.6"
  }
 },
 "nbformat": 4,
 "nbformat_minor": 2
}
