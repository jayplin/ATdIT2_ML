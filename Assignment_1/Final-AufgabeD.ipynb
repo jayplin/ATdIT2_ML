{
 "cells": [
  {
   "cell_type": "markdown",
   "metadata": {},
   "source": [
    "# D MNIST understanding\n",
    "_5 points_\n",
    "\n",
    "Some numbers are more difficult to predict with KNN and to cluster with K-means. \n",
    "Show why. Start with examples, and get more general"
   ]
  },
  {
   "cell_type": "markdown",
   "metadata": {},
   "source": [
    "## Answer\n",
    "Der Algorithmus sieht die Bilder ja nicht wie wir Menschen, sondern berechnet aus den Matrixen die zugehörigen Label. Da sich einige Bilder sehr ähnlich sehen, hat der Algorithmus dort Schwierigkeiten. Wenn wir KMeans mit PCA umwandeln und plotten, sehen wir, dass sich die Fünf mit allen anderen Klassen überschneidet. Viele graphische Bestandteile der Fünf findet man in anderen Zahlen wieder. \n",
    "\n",
    "Generell kann man deswegen sagen, dass Zahlen oder Bilder mit ähnlichen graphischen Elementen schwierig zu unterscheiden sind. "
   ]
  },
  {
   "cell_type": "code",
   "execution_count": null,
   "metadata": {},
   "outputs": [],
   "source": []
  }
 ],
 "metadata": {
  "kernelspec": {
   "display_name": "Python 2",
   "language": "python",
   "name": "python2"
  },
  "language_info": {
   "codemirror_mode": {
    "name": "ipython",
    "version": 2
   },
   "file_extension": ".py",
   "mimetype": "text/x-python",
   "name": "python",
   "nbconvert_exporter": "python",
   "pygments_lexer": "ipython2",
   "version": "2.7.15"
  }
 },
 "nbformat": 4,
 "nbformat_minor": 2
}
