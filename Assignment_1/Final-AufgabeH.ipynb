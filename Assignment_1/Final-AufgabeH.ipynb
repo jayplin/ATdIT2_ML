{
 "cells": [
  {
   "cell_type": "markdown",
   "metadata": {},
   "source": [
    "# Assignment 1: Aufgabe H"
   ]
  },
  {
   "cell_type": "markdown",
   "metadata": {},
   "source": [
    "## H Feedback\n",
    "_2 points_\n",
    "\n",
    "* How much time did you work on this assignment and how often did you meet?\n",
    "* Did you use Google Cloud or Anaconda?\n",
    "* What was your favourite excercise? Why?\n",
    "* What excercise did you like least? Why?"
   ]
  },
  {
   "cell_type": "markdown",
   "metadata": {},
   "source": [
    "## Q1: \n",
    "\n",
    "Am Anfang haben wir ersteinmal versucht uns so viel wie möglich selbst zu erarbeiten und in die uns teilweise unbekannte Programmiersprache einzufinden. Danach haben wir uns 2 mal außerhalb der Uni getroffen um Ergebnisse zu vergleichen und Fragen zu klären. Ansonsten wurden unsere Treffen regelmäßig in der Mittagspause abgehalten. Insgesamt haben wir mit 3 Personen etwa 35 h an den Aufgaben gearbeitet."
   ]
  },
  {
   "cell_type": "markdown",
   "metadata": {},
   "source": [
    "## Q2: \n",
    "Wir haben sowohl Anaconda als auch Google Cloud benutzt.\n",
    "Installieren der Packages war komplizierer mit Anaconda und erforderte viel Zeit.\n",
    "Bei Google Cloud war es gerade am Anfang sehr unübersichtlich was das Einrichten anging, danach jedoch recht wartungsfreundlich, jedoch nicht schneller als Anaconda. Die Autovervollständigung war bei Google Cloud teilweise etwas langsamer."
   ]
  },
  {
   "cell_type": "markdown",
   "metadata": {},
   "source": [
    "## Q3:\n",
    "Unsere Lieblingsaufgabe war Aufgabe G. Dort haben wir angefangen, richtig und ohne jeden Befehl googeln zu müssen, zu programmieren und auch die Klassen mit ihren Methoden konnten wir intuitiver verwenden.\n",
    "Das war auch eine der ersten Aufgaben die wir ohne große Korrekturen und Umwege zum laufen bringen konnten."
   ]
  },
  {
   "cell_type": "markdown",
   "metadata": {},
   "source": [
    "## Q4:\n",
    "Am schwierigsten fanden wir Aufgabe B. Das lag hauptsächlich daran, dass wir uns jeden Befehl einzeln erarbeiten und ausprobieren mussten. Da das viel Zeit und Nerven gekostet hat, konnten wir uns dort kaum um die eigentliche Logik kümmern sondern mussten ersteinmal die Syntax nachvollziehen. Auch die Verwendung der Klassen lief noch nicht rund da wir nie wussten welche man für was einsetzen kann bzw. dann alle benötigten Parameter raussuchen mussten."
   ]
  },
  {
   "cell_type": "markdown",
   "metadata": {},
   "source": [
    "## Zusatzfeedback:\n",
    "Im Laufe des Assignments haben wir uns merkbar weiterentwickelt und fanden auch gut, dass wir uns im Helpdesk mit unserem Feedback ernstgenommen gefühlt haben. Allgemein hatten wir trotz anfänglicher Frustration viel Spaß und freuen uns auf das nächste Assignment."
   ]
  }
 ],
 "metadata": {
  "kernelspec": {
   "display_name": "Python 3",
   "language": "python",
   "name": "python3"
  },
  "language_info": {
   "codemirror_mode": {
    "name": "ipython",
    "version": 3
   },
   "file_extension": ".py",
   "mimetype": "text/x-python",
   "name": "python",
   "nbconvert_exporter": "python",
   "pygments_lexer": "ipython3",
   "version": "3.5.6"
  }
 },
 "nbformat": 4,
 "nbformat_minor": 2
}
