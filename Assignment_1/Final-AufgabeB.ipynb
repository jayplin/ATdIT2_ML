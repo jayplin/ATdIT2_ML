{
 "cells": [
  {
   "cell_type": "markdown",
   "metadata": {},
   "source": [
    "# Assignment 1: Aufgabe B"
   ]
  },
  {
   "cell_type": "markdown",
   "metadata": {},
   "source": [
    "# B KNN MNIST -done\n",
    "_3 points_\n",
    "\n",
    "- What is the error rate of KNN on the test set?\n",
    "- What is the error rate for each label (number)?\n",
    "\n",
    "Do for k = 2, 4, 8\n",
    "\n",
    "- How does the choice of k influence the results?"
   ]
  },
  {
   "cell_type": "markdown",
   "metadata": {},
   "source": [
    "## Imports & Variablen"
   ]
  },
  {
   "cell_type": "code",
   "execution_count": 1,
   "metadata": {},
   "outputs": [],
   "source": [
    "import tensorflow as tf\n",
    "import numpy as np\n",
    "import matplotlib.pyplot as plt\n",
    "import seaborn as sns\n",
    "from sklearn.manifold import TSNE\n",
    "import scipy.spatial.distance\n",
    "from sklearn.metrics import classification_report\n",
    "from sklearn import metrics #needed for differentiating accuracy for each digit\n",
    "from sklearn.neighbors import KNeighborsClassifier\n",
    "\n",
    "train_size = 10000\n",
    "test_size = 100\n",
    "k = [2,4,8]\n",
    "plt.set_cmap('gray')\n"
   ]
  },
  {
   "cell_type": "markdown",
   "metadata": {},
   "source": [
    "## Train and reshape"
   ]
  },
  {
   "cell_type": "code",
   "execution_count": 2,
   "metadata": {},
   "outputs": [],
   "source": [
    "train = tf.keras.datasets.mnist.load_data()[0] #load training data train\n",
    "X_train, Y_train = train[0], train[1]  #split it into X and Y data\n",
    "\n",
    "test = tf.keras.datasets.mnist.load_data()[1]#load test data\n",
    "X_test, Y_test = test[0], test[1] #split it into X and Y data\n",
    "\n",
    "n_train = X_train.shape[0] #Dimension 1: nr of lines (?)-> 60 000\n",
    "n_test = X_test.shape[0] #Dimension 1: nr of lines (?)-> 10 000\n",
    "\n",
    "m = X_train.shape[1]**2 \n"
   ]
  },
  {
   "cell_type": "code",
   "execution_count": 3,
   "metadata": {},
   "outputs": [],
   "source": [
    "X_train = X_train.reshape([n_train, m])\n",
    "X_test = X_test.reshape([n_test, m])"
   ]
  },
  {
   "cell_type": "code",
   "execution_count": 4,
   "metadata": {},
   "outputs": [],
   "source": [
    "idx = np.random.randint(n_train, size=train_size) #random index: with n_train being the Lowest (signed) integer to be drawn \n",
    "#from the distribution and size being the Output shape. \n",
    "x_train_sample = X_train[idx] #choose 1 sample in trainingsdata with this randomly-chosen index. \n",
    "y_train_sample = Y_train[idx] #corresponding entry on Y-axis. "
   ]
  },
  {
   "cell_type": "code",
   "execution_count": 5,
   "metadata": {},
   "outputs": [],
   "source": [
    "# do the same for test data\n",
    "idx = np.random.randint(n_test, size=test_size) \n",
    "x_test_sample = X_test[idx]\n",
    "y_test_sample = Y_test[idx]"
   ]
  },
  {
   "cell_type": "code",
   "execution_count": 6,
   "metadata": {},
   "outputs": [],
   "source": [
    "#now: use the Scikit-learn algorithm"
   ]
  },
  {
   "cell_type": "markdown",
   "metadata": {},
   "source": [
    "## KNN"
   ]
  },
  {
   "cell_type": "code",
   "execution_count": 7,
   "metadata": {},
   "outputs": [],
   "source": [
    "def runKnn(k):\n",
    "    neigh = KNeighborsClassifier(n_neighbors=k,n_jobs=-1)#since we have to try it with k = 2,4,8\n",
    "    neigh.fit(x_train_sample, y_train_sample) \n",
    "    pred = neigh.predict(x_test_sample)\n",
    "    print (\"Confusion Matrix for each number:\")\n",
    "    print(\"\")\n",
    "    print(metrics.confusion_matrix(y_test_sample,pred))\n",
    "    print(\"\")\n",
    "    print (\"Error rate:\")\n",
    "    print(1-neigh.score(x_test_sample, y_test_sample))"
   ]
  },
  {
   "cell_type": "markdown",
   "metadata": {},
   "source": [
    "## For K = 2"
   ]
  },
  {
   "cell_type": "code",
   "execution_count": 8,
   "metadata": {},
   "outputs": [
    {
     "name": "stdout",
     "output_type": "stream",
     "text": [
      "Confusion Matrix for each number:\n",
      "\n",
      "[[12  0  0  0  0  0  0  0  0  0]\n",
      " [ 0 17  0  0  0  0  0  0  0  0]\n",
      " [ 0  0  9  0  0  0  0  0  0  0]\n",
      " [ 0  0  0  7  0  0  0  0  0  0]\n",
      " [ 0  0  0  0 14  0  0  0  0  1]\n",
      " [ 0  0  0  1  0 11  0  0  0  0]\n",
      " [ 1  0  0  0  0  0  7  0  0  0]\n",
      " [ 0  0  0  0  0  0  0  6  0  0]\n",
      " [ 0  0  0  0  0  0  0  0  7  0]\n",
      " [ 0  0  0  0  0  0  0  2  0  5]]\n",
      "\n",
      "Error rate:\n",
      "0.050000000000000044\n"
     ]
    }
   ],
   "source": [
    "runKnn(k[0])"
   ]
  },
  {
   "cell_type": "markdown",
   "metadata": {},
   "source": [
    "## For K = 4"
   ]
  },
  {
   "cell_type": "code",
   "execution_count": 9,
   "metadata": {},
   "outputs": [
    {
     "name": "stdout",
     "output_type": "stream",
     "text": [
      "Confusion Matrix for each number:\n",
      "\n",
      "[[12  0  0  0  0  0  0  0  0  0]\n",
      " [ 0 17  0  0  0  0  0  0  0  0]\n",
      " [ 0  0  9  0  0  0  0  0  0  0]\n",
      " [ 0  0  0  7  0  0  0  0  0  0]\n",
      " [ 0  0  0  0 14  0  0  0  0  1]\n",
      " [ 0  0  0  1  0 11  0  0  0  0]\n",
      " [ 1  0  0  0  0  0  7  0  0  0]\n",
      " [ 0  0  0  0  0  0  0  6  0  0]\n",
      " [ 0  0  0  1  0  0  0  0  6  0]\n",
      " [ 0  0  0  0  0  0  0  0  0  7]]\n",
      "\n",
      "Error rate:\n",
      "0.040000000000000036\n"
     ]
    }
   ],
   "source": [
    "runKnn(k[1])"
   ]
  },
  {
   "cell_type": "markdown",
   "metadata": {},
   "source": [
    "## For K = 8"
   ]
  },
  {
   "cell_type": "code",
   "execution_count": 10,
   "metadata": {},
   "outputs": [
    {
     "name": "stdout",
     "output_type": "stream",
     "text": [
      "Confusion Matrix for each number:\n",
      "\n",
      "[[12  0  0  0  0  0  0  0  0  0]\n",
      " [ 0 17  0  0  0  0  0  0  0  0]\n",
      " [ 0  0  9  0  0  0  0  0  0  0]\n",
      " [ 0  0  0  7  0  0  0  0  0  0]\n",
      " [ 0  0  0  0 15  0  0  0  0  0]\n",
      " [ 0  0  0  0  0 12  0  0  0  0]\n",
      " [ 0  0  0  0  0  0  8  0  0  0]\n",
      " [ 0  0  0  0  0  0  0  6  0  0]\n",
      " [ 0  0  0  0  0  0  0  0  7  0]\n",
      " [ 0  0  0  0  0  0  0  1  0  6]]\n",
      "\n",
      "Error rate:\n",
      "0.010000000000000009\n"
     ]
    }
   ],
   "source": [
    "runKnn(k[2])"
   ]
  },
  {
   "cell_type": "markdown",
   "metadata": {},
   "source": [
    "## Zusammenfassung\n",
    "Bei k = 8 wird eine niedrigere Error rate erreicht als bei k = 2 oder k = 4"
   ]
  },
  {
   "cell_type": "code",
   "execution_count": null,
   "metadata": {},
   "outputs": [],
   "source": []
  }
 ],
 "metadata": {
  "kernelspec": {
   "display_name": "Python 3",
   "language": "python",
   "name": "python3"
  },
  "language_info": {
   "codemirror_mode": {
    "name": "ipython",
    "version": 3
   },
   "file_extension": ".py",
   "mimetype": "text/x-python",
   "name": "python",
   "nbconvert_exporter": "python",
   "pygments_lexer": "ipython3",
   "version": "3.5.6"
  }
 },
 "nbformat": 4,
 "nbformat_minor": 2
}
