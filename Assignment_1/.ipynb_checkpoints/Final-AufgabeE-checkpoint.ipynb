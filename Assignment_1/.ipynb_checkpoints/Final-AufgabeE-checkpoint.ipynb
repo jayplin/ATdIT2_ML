{
 "cells": [
  {
   "cell_type": "markdown",
   "metadata": {},
   "source": [
    "# E KNN and K-means CIFAR\n",
    "_5 points_\n",
    "\n",
    "transform cifar-10 to grayscale. \n",
    "\n",
    "- Does knn work similarly good?\n",
    "- Does k-means work similarly good?\n",
    "- Demonstrate this similar to  B, C and D"
   ]
  },
  {
   "cell_type": "code",
   "execution_count": 6,
   "metadata": {},
   "outputs": [],
   "source": [
    "import tensorflow as tf\n",
    "import numpy as np\n",
    "import matplotlib.pyplot as plt\n",
    "\n",
    "plt.set_cmap(None)"
   ]
  },
  {
   "cell_type": "markdown",
   "metadata": {},
   "source": [
    "# CIFAR-10 Dataset\n",
    "\n",
    "https://www.cs.toronto.edu/~kriz/cifar.html"
   ]
  },
  {
   "cell_type": "markdown",
   "metadata": {},
   "source": [
    "## Download and prepare Data"
   ]
  },
  {
   "cell_type": "code",
   "execution_count": 7,
   "metadata": {},
   "outputs": [],
   "source": [
    "cifar_train = tf.keras.datasets.cifar10.load_data()[0]\n",
    "cifar_test = tf.keras.datasets.cifar10.load_data()[1]\n",
    "\n",
    "train_image, train_label = cifar_train[0], cifar_train[1]\n",
    "test_image, test_label = cifar_test[0], cifar_test[1]\n",
    "\n",
    "\n",
    "\n",
    "\n"
   ]
  },
  {
   "cell_type": "markdown",
   "metadata": {},
   "source": [
    "## Turn pictures to grayscale"
   ]
  },
  {
   "cell_type": "code",
   "execution_count": 8,
   "metadata": {},
   "outputs": [
    {
     "data": {
      "text/plain": [
       "<Figure size 432x288 with 0 Axes>"
      ]
     },
     "metadata": {},
     "output_type": "display_data"
    }
   ],
   "source": [
    "# Auxiliary function for turning an RGB image to Gray-scale image\n",
    "def rgb2gray(rgb):\n",
    "    return np.dot(rgb[...,:3], [0.299, 0.587, 0.114])\n",
    "\n",
    "train_image = rgb2gray(train_image)\n",
    "test_image = rgb2gray(test_image)\n",
    "plt.set_cmap('gray')\n"
   ]
  },
  {
   "cell_type": "markdown",
   "metadata": {},
   "source": [
    "## Reshaping"
   ]
  },
  {
   "cell_type": "code",
   "execution_count": 9,
   "metadata": {},
   "outputs": [
    {
     "name": "stdout",
     "output_type": "stream",
     "text": [
      "(100, 32, 32)\n",
      "(1000, 32, 32)\n"
     ]
    }
   ],
   "source": [
    "train_size = 100\n",
    "test_size = 1000\n",
    "\n",
    "train_image = train_image[:train_size]\n",
    "train_label = train_label[:train_size]\n",
    "\n",
    "test_image = test_image[:test_size]\n",
    "test_label = test_label[:test_size]\n",
    "\n",
    "n_train = train_image.shape[0]\n",
    "n_test = test_image.shape[0]\n",
    "\n",
    "m = train_image.shape[1]**2\n",
    "\n",
    "print(train_image.shape)\n",
    "print(test_image.shape)\n",
    "\n",
    "train_image = train_image.reshape([n_train, m])\n",
    "test_image = test_image.reshape([n_test, m])"
   ]
  },
  {
   "cell_type": "markdown",
   "metadata": {},
   "source": [
    "## Algorithm"
   ]
  },
  {
   "cell_type": "markdown",
   "metadata": {},
   "source": [
    "## KMeans"
   ]
  },
  {
   "cell_type": "markdown",
   "metadata": {},
   "source": [
    "Wir clustern nur Test Sample, für schnellere Laufzeiten."
   ]
  },
  {
   "cell_type": "code",
   "execution_count": 10,
   "metadata": {},
   "outputs": [],
   "source": [
    "from sklearn.cluster import KMeans\n"
   ]
  },
  {
   "cell_type": "markdown",
   "metadata": {},
   "source": [
    "### Analyis of the clusters (Similar to C)"
   ]
  },
  {
   "cell_type": "code",
   "execution_count": 11,
   "metadata": {},
   "outputs": [],
   "source": [
    "from sklearn.metrics.cluster import homogeneity_score\n",
    "#flatten array to have one dimension less\n",
    "#for correct format in homogeneity score method\n",
    "test_label = test_label.flatten()\n",
    "\n",
    "def doKmeans(iter):\n",
    "  n_digits = len(np.unique(test_label))\n",
    "\n",
    "  kmeans = KMeans(init='k-means++', n_clusters=n_digits, n_init=10, n_jobs=-1, verbose=0, max_iter=iter)\n",
    "\n",
    "  X_test_local = test_image.reshape([n_test, m])\n",
    "  #print(X_test_local.shape)\n",
    "  #print(Y_test.shape)\n",
    "\n",
    "  kmeans.fit(X_test_local)\n",
    "\n",
    "  for y in range(10):\n",
    "      print(\"\\nCluster: %d\" % (y))\n",
    "      cluster = (np.array([i for i, x in enumerate(kmeans.labels_) if x == y]))\n",
    "      labels_cluster_1 = test_label[cluster]\n",
    "      len_cluster = len(labels_cluster_1)\n",
    "\n",
    "      unique, counts = np.unique(labels_cluster_1, return_counts=True)\n",
    "      counts_dict = dict(zip(unique, counts))\n",
    "      majority_class = max(counts_dict.items(), key=lambda k: k[1])[0]\n",
    "\n",
    "      print(counts_dict)\n",
    "      print(\"Percentage of majority class: %f\" % (max(counts)/float(len_cluster)))\n",
    "      print(\"Majority class is: %d\" % (majority_class))\n",
    "\n",
    "\n",
    "      print(\"Laenge: \", len_cluster)\n",
    "      print(\"Homogeneity Score for %d: %f\" %( iter, homogeneity_score(test_label, kmeans.labels_)))\n",
    "      "
   ]
  },
  {
   "cell_type": "code",
   "execution_count": 12,
   "metadata": {},
   "outputs": [
    {
     "name": "stdout",
     "output_type": "stream",
     "text": [
      "\n",
      "\n",
      "________________________________________________________________________________\n",
      "Anzahl Iterations 10\n",
      "________________________________________________________________________________\n",
      "\n",
      "Cluster: 0\n",
      "{0: 11, 1: 11, 2: 5, 3: 9, 4: 7, 5: 5, 6: 8, 7: 18, 8: 14, 9: 30}\n",
      "Percentage of majority class: 0.254237\n",
      "Majority class is: 9\n",
      "Laenge:  118\n",
      "Homogeneity Score for 10: 0.086131\n",
      "\n",
      "Cluster: 1\n",
      "{0: 7, 1: 16, 2: 11, 3: 16, 4: 13, 5: 8, 6: 21, 7: 4, 8: 5, 9: 4}\n",
      "Percentage of majority class: 0.200000\n",
      "Majority class is: 6\n",
      "Laenge:  105\n",
      "Homogeneity Score for 10: 0.086131\n",
      "\n",
      "Cluster: 2\n",
      "{0: 20, 1: 5, 2: 22, 3: 10, 4: 7, 5: 14, 6: 7, 7: 10, 8: 15, 9: 5}\n",
      "Percentage of majority class: 0.191304\n",
      "Majority class is: 2\n",
      "Laenge:  115\n",
      "Homogeneity Score for 10: 0.086131\n",
      "\n",
      "Cluster: 3\n",
      "{0: 19, 1: 3, 2: 6, 3: 8, 4: 3, 5: 5, 6: 5, 7: 8, 8: 6, 9: 3}\n",
      "Percentage of majority class: 0.287879\n",
      "Majority class is: 0\n",
      "Laenge:  66\n",
      "Homogeneity Score for 10: 0.086131\n",
      "\n",
      "Cluster: 4\n",
      "{0: 3, 1: 9, 2: 5, 3: 13, 4: 4, 5: 13, 6: 14, 7: 6, 8: 8, 9: 3}\n",
      "Percentage of majority class: 0.179487\n",
      "Majority class is: 6\n",
      "Laenge:  78\n",
      "Homogeneity Score for 10: 0.086131\n",
      "\n",
      "Cluster: 5\n",
      "{0: 15, 1: 10, 2: 2, 4: 2, 5: 1, 6: 1, 7: 7, 8: 30, 9: 19}\n",
      "Percentage of majority class: 0.344828\n",
      "Majority class is: 8\n",
      "Laenge:  87\n",
      "Homogeneity Score for 10: 0.086131\n",
      "\n",
      "Cluster: 6\n",
      "{0: 10, 1: 9, 2: 23, 3: 19, 4: 21, 5: 10, 6: 32, 7: 14, 8: 3, 9: 12}\n",
      "Percentage of majority class: 0.209150\n",
      "Majority class is: 6\n",
      "Laenge:  153\n",
      "Homogeneity Score for 10: 0.086131\n",
      "\n",
      "Cluster: 7\n",
      "{0: 5, 1: 19, 2: 4, 3: 7, 4: 9, 5: 3, 6: 3, 7: 5, 8: 19, 9: 27}\n",
      "Percentage of majority class: 0.267327\n",
      "Majority class is: 9\n",
      "Laenge:  101\n",
      "Homogeneity Score for 10: 0.086131\n",
      "\n",
      "Cluster: 8\n",
      "{0: 11, 1: 2, 2: 15, 3: 8, 4: 9, 5: 13, 6: 10, 7: 17, 8: 2, 9: 2}\n",
      "Percentage of majority class: 0.191011\n",
      "Majority class is: 7\n",
      "Laenge:  89\n",
      "Homogeneity Score for 10: 0.086131\n",
      "\n",
      "Cluster: 9\n",
      "{0: 2, 1: 5, 2: 7, 3: 13, 4: 15, 5: 14, 6: 11, 7: 13, 8: 4, 9: 4}\n",
      "Percentage of majority class: 0.170455\n",
      "Majority class is: 4\n",
      "Laenge:  88\n",
      "Homogeneity Score for 10: 0.086131\n",
      "\n",
      "\n",
      "\n",
      "________________________________________________________________________________\n",
      "________________________________________________________________________________\n",
      "\n",
      "\n",
      "________________________________________________________________________________\n",
      "Anzahl Iterations 100\n",
      "________________________________________________________________________________\n",
      "\n",
      "Cluster: 0\n",
      "{0: 13, 1: 15, 2: 5, 3: 8, 4: 11, 5: 4, 6: 4, 7: 11, 8: 21, 9: 31}\n",
      "Percentage of majority class: 0.252033\n",
      "Majority class is: 9\n",
      "Laenge:  123\n",
      "Homogeneity Score for 100: 0.091524\n",
      "\n",
      "Cluster: 1\n",
      "{0: 2, 1: 5, 2: 7, 3: 16, 4: 17, 5: 16, 6: 11, 7: 14, 8: 4, 9: 5}\n",
      "Percentage of majority class: 0.175258\n",
      "Majority class is: 4\n",
      "Laenge:  97\n",
      "Homogeneity Score for 100: 0.091524\n",
      "\n",
      "Cluster: 2\n",
      "{0: 11, 1: 7, 2: 5, 3: 1, 4: 6, 5: 6, 6: 3, 7: 8, 8: 28, 9: 9}\n",
      "Percentage of majority class: 0.333333\n",
      "Majority class is: 8\n",
      "Laenge:  84\n",
      "Homogeneity Score for 100: 0.091524\n",
      "\n",
      "Cluster: 3\n",
      "{0: 4, 1: 14, 2: 9, 3: 18, 4: 4, 5: 14, 6: 16, 7: 6, 8: 11, 9: 6}\n",
      "Percentage of majority class: 0.176471\n",
      "Majority class is: 3\n",
      "Laenge:  102\n",
      "Homogeneity Score for 100: 0.091524\n",
      "\n",
      "Cluster: 4\n",
      "{0: 11, 1: 5, 2: 9, 3: 13, 4: 8, 5: 14, 6: 15, 7: 18, 8: 7, 9: 13}\n",
      "Percentage of majority class: 0.159292\n",
      "Majority class is: 7\n",
      "Laenge:  113\n",
      "Homogeneity Score for 100: 0.091524\n",
      "\n",
      "Cluster: 5\n",
      "{0: 1, 1: 12, 2: 20, 3: 11, 4: 18, 5: 10, 6: 30, 7: 12, 8: 3, 9: 11}\n",
      "Percentage of majority class: 0.234375\n",
      "Majority class is: 6\n",
      "Laenge:  128\n",
      "Homogeneity Score for 100: 0.091524\n",
      "\n",
      "Cluster: 6\n",
      "{0: 22, 1: 4, 2: 28, 3: 14, 4: 13, 5: 14, 6: 9, 7: 16, 8: 8, 9: 1}\n",
      "Percentage of majority class: 0.217054\n",
      "Majority class is: 2\n",
      "Laenge:  129\n",
      "Homogeneity Score for 100: 0.091524\n",
      "\n",
      "Cluster: 7\n",
      "{0: 7, 1: 15, 2: 9, 3: 13, 4: 10, 5: 4, 6: 19, 7: 3, 8: 4, 9: 2}\n",
      "Percentage of majority class: 0.220930\n",
      "Majority class is: 6\n",
      "Laenge:  86\n",
      "Homogeneity Score for 100: 0.091524\n",
      "\n",
      "Cluster: 8\n",
      "{0: 18, 1: 4, 2: 6, 3: 8, 4: 3, 5: 4, 6: 5, 7: 7, 8: 5, 9: 3}\n",
      "Percentage of majority class: 0.285714\n",
      "Majority class is: 0\n",
      "Laenge:  63\n",
      "Homogeneity Score for 100: 0.091524\n",
      "\n",
      "Cluster: 9\n",
      "{0: 14, 1: 8, 2: 2, 3: 1, 7: 7, 8: 15, 9: 28}\n",
      "Percentage of majority class: 0.373333\n",
      "Majority class is: 9\n",
      "Laenge:  75\n",
      "Homogeneity Score for 100: 0.091524\n",
      "\n",
      "\n",
      "\n",
      "________________________________________________________________________________\n",
      "________________________________________________________________________________\n",
      "\n",
      "\n",
      "________________________________________________________________________________\n",
      "Anzahl Iterations 1000\n",
      "________________________________________________________________________________\n",
      "\n",
      "Cluster: 0\n",
      "{0: 10, 1: 8, 2: 8, 3: 15, 4: 9, 5: 10, 6: 14, 7: 22, 8: 10, 9: 15}\n",
      "Percentage of majority class: 0.181818\n",
      "Majority class is: 7\n",
      "Laenge:  121\n",
      "Homogeneity Score for 1000: 0.084482\n",
      "\n",
      "Cluster: 1\n",
      "{0: 12, 1: 9, 2: 2, 3: 1, 4: 2, 6: 1, 7: 7, 8: 16, 9: 33}\n",
      "Percentage of majority class: 0.397590\n",
      "Majority class is: 9\n",
      "Laenge:  83\n",
      "Homogeneity Score for 1000: 0.084482\n",
      "\n",
      "Cluster: 2\n",
      "{0: 3, 1: 7, 2: 19, 3: 11, 4: 15, 5: 13, 6: 25, 7: 15, 8: 3, 9: 9}\n",
      "Percentage of majority class: 0.208333\n",
      "Majority class is: 6\n",
      "Laenge:  120\n",
      "Homogeneity Score for 1000: 0.084482\n",
      "\n",
      "Cluster: 3\n",
      "{0: 4, 1: 10, 2: 7, 3: 18, 4: 7, 5: 15, 6: 19, 7: 8, 8: 10, 9: 6}\n",
      "Percentage of majority class: 0.182692\n",
      "Majority class is: 6\n",
      "Laenge:  104\n",
      "Homogeneity Score for 1000: 0.084482\n",
      "\n",
      "Cluster: 4\n",
      "{0: 24, 1: 4, 2: 29, 3: 12, 4: 12, 5: 17, 6: 11, 7: 15, 8: 7, 9: 2}\n",
      "Percentage of majority class: 0.218045\n",
      "Majority class is: 2\n",
      "Laenge:  133\n",
      "Homogeneity Score for 1000: 0.084482\n",
      "\n",
      "Cluster: 5\n",
      "{0: 7, 1: 16, 2: 10, 3: 13, 4: 13, 5: 5, 6: 21, 7: 4, 8: 4, 9: 4}\n",
      "Percentage of majority class: 0.216495\n",
      "Majority class is: 6\n",
      "Laenge:  97\n",
      "Homogeneity Score for 1000: 0.084482\n",
      "\n",
      "Cluster: 6\n",
      "{0: 12, 1: 7, 2: 4, 3: 2, 4: 4, 5: 5, 6: 2, 7: 8, 8: 29, 9: 8}\n",
      "Percentage of majority class: 0.358025\n",
      "Majority class is: 8\n",
      "Laenge:  81\n",
      "Homogeneity Score for 1000: 0.084482\n",
      "\n",
      "Cluster: 7\n",
      "{0: 11, 1: 19, 2: 9, 3: 9, 4: 10, 5: 4, 6: 8, 7: 10, 8: 19, 9: 26}\n",
      "Percentage of majority class: 0.208000\n",
      "Majority class is: 9\n",
      "Laenge:  125\n",
      "Homogeneity Score for 1000: 0.084482\n",
      "\n",
      "Cluster: 8\n",
      "{0: 1, 1: 5, 2: 6, 3: 15, 4: 15, 5: 13, 6: 6, 7: 6, 8: 4, 9: 3}\n",
      "Percentage of majority class: 0.202703\n",
      "Majority class is: 3\n",
      "Laenge:  74\n",
      "Homogeneity Score for 1000: 0.084482\n",
      "\n",
      "Cluster: 9\n",
      "{0: 19, 1: 4, 2: 6, 3: 7, 4: 3, 5: 4, 6: 5, 7: 7, 8: 4, 9: 3}\n",
      "Percentage of majority class: 0.306452\n",
      "Majority class is: 0\n",
      "Laenge:  62\n",
      "Homogeneity Score for 1000: 0.084482\n",
      "\n",
      "\n",
      "\n",
      "________________________________________________________________________________\n",
      "________________________________________________________________________________\n"
     ]
    }
   ],
   "source": [
    "iter = [10,100,1000]\n",
    "for x in range(len(iter)):\n",
    "  print()\n",
    "  print()\n",
    "  print(\"________________________________________________________________________________\")\n",
    "  print(\"Anzahl Iterations %d\" %iter[x])\n",
    "  print(\"________________________________________________________________________________\")\n",
    "  \n",
    "  doKmeans(iter[x])\n",
    "  # have some whitespacese\n",
    "  print()\n",
    "  print()\n",
    "  print()\n",
    "  print(\"________________________________________________________________________________\")\n",
    "  print(\"________________________________________________________________________________\")\n",
    "\n"
   ]
  },
  {
   "cell_type": "markdown",
   "metadata": {},
   "source": [
    "### Gedanken zu Kmeans mit Cifar\n",
    "- der Algorithmus funktioniert hier sehr schlecht. Es wurde so gut wie nicht geclustert. Das können wir an der Homogenität von 0,09 erkennen. \n",
    "- Bei Mnist haben wir eine Homogenität von über 0,5"
   ]
  },
  {
   "cell_type": "markdown",
   "metadata": {},
   "source": [
    "## KNN"
   ]
  },
  {
   "cell_type": "markdown",
   "metadata": {},
   "source": [
    "### Execute Black Magic"
   ]
  },
  {
   "cell_type": "code",
   "execution_count": 13,
   "metadata": {},
   "outputs": [
    {
     "name": "stderr",
     "output_type": "stream",
     "text": [
      "C:\\Users\\Dominik\\Anaconda3\\envs\\tensorflow\\lib\\site-packages\\ipykernel_launcher.py:6: DataConversionWarning: A column-vector y was passed when a 1d array was expected. Please change the shape of y to (n_samples, ), for example using ravel().\n",
      "  \n"
     ]
    }
   ],
   "source": [
    "from sklearn.metrics import classification_report #needed for differentiating accuracy for each digit\n",
    "from sklearn.neighbors import KNeighborsClassifier\n",
    "from sklearn import metrics\n",
    "\n",
    "neigh = KNeighborsClassifier(n_neighbors=8, n_jobs=-1)#since we have to try it with k = 2,4,6,8\n",
    "neigh.fit(train_image, train_label)\n",
    "pred = neigh.predict(test_image)"
   ]
  },
  {
   "cell_type": "code",
   "execution_count": 14,
   "metadata": {},
   "outputs": [
    {
     "name": "stdout",
     "output_type": "stream",
     "text": [
      "Score: 0.135000\n",
      "              precision    recall  f1-score   support\n",
      "\n",
      "           0       0.08      0.02      0.03       103\n",
      "           1       0.17      0.04      0.07        89\n",
      "           2       0.10      0.29      0.15       100\n",
      "           3       0.17      0.24      0.20       103\n",
      "           4       0.11      0.46      0.18        90\n",
      "           5       0.00      0.00      0.00        86\n",
      "           6       0.00      0.00      0.00       112\n",
      "           7       0.17      0.01      0.02       102\n",
      "           8       0.33      0.04      0.07       106\n",
      "           9       0.26      0.27      0.26       109\n",
      "\n",
      "   micro avg       0.14      0.14      0.14      1000\n",
      "   macro avg       0.14      0.14      0.10      1000\n",
      "weighted avg       0.14      0.14      0.10      1000\n",
      "\n"
     ]
    }
   ],
   "source": [
    "print(\"Score: %f\" % neigh.score(test_image, test_label))\n",
    "from sklearn.metrics import classification_report #needed for differentiating accuracy for each digit\n",
    "\n",
    "classification_report = classification_report(test_label, pred)\n",
    "\n",
    "print(classification_report)"
   ]
  },
  {
   "cell_type": "markdown",
   "metadata": {},
   "source": [
    "## analysis like in B with different Ks"
   ]
  },
  {
   "cell_type": "code",
   "execution_count": 15,
   "metadata": {},
   "outputs": [],
   "source": [
    "k = [2,4,8]"
   ]
  },
  {
   "cell_type": "code",
   "execution_count": 20,
   "metadata": {},
   "outputs": [],
   "source": [
    "def runKnn(k):\n",
    "    neigh = KNeighborsClassifier(n_neighbors=k,n_jobs=-1)#since we have to try it with k = 2,4,8\n",
    "    neigh.fit(train_image, train_label) \n",
    "    pred = neigh.predict(test_image)\n",
    "    print (\"Confusion Matrix for each number:\")\n",
    "    print(\"\")\n",
    "    print(metrics.confusion_matrix(test_label,pred))\n",
    "    print(\"\")\n",
    "    print (\"Error rate:\")\n",
    "    print(1-neigh.score(test_image, test_label))"
   ]
  },
  {
   "cell_type": "code",
   "execution_count": 21,
   "metadata": {},
   "outputs": [
    {
     "name": "stderr",
     "output_type": "stream",
     "text": [
      "C:\\Users\\Dominik\\Anaconda3\\envs\\tensorflow\\lib\\site-packages\\ipykernel_launcher.py:3: DataConversionWarning: A column-vector y was passed when a 1d array was expected. Please change the shape of y to (n_samples, ), for example using ravel().\n",
      "  This is separate from the ipykernel package so we can avoid doing imports until\n"
     ]
    },
    {
     "name": "stdout",
     "output_type": "stream",
     "text": [
      "Confusion Matrix for each number:\n",
      "\n",
      "[[ 9  5 42  3 20  3  1  2  9  9]\n",
      " [ 8 11 23 13 19  0  4  0  1 10]\n",
      " [ 6  2 53 10 22  2  0  1  4  0]\n",
      " [ 6  5 36 31 16  3  1  0  3  2]\n",
      " [ 1  2 35 22 22  4  0  0  3  1]\n",
      " [ 5  4 38 15 20  2  1  0  0  1]\n",
      " [ 3  2 52 27 22  3  2  0  1  0]\n",
      " [ 5  6 24 19 27  4  6  1  4  6]\n",
      " [ 4  5 23  9 24  2  4  1 16 18]\n",
      " [ 7 14  9 20 22  2  3  4 15 13]]\n",
      "\n",
      "Error rate:\n",
      "0.84\n"
     ]
    }
   ],
   "source": [
    "runKnn(k[0])"
   ]
  },
  {
   "cell_type": "code",
   "execution_count": 22,
   "metadata": {},
   "outputs": [
    {
     "name": "stderr",
     "output_type": "stream",
     "text": [
      "C:\\Users\\Dominik\\Anaconda3\\envs\\tensorflow\\lib\\site-packages\\ipykernel_launcher.py:3: DataConversionWarning: A column-vector y was passed when a 1d array was expected. Please change the shape of y to (n_samples, ), for example using ravel().\n",
      "  This is separate from the ipykernel package so we can avoid doing imports until\n"
     ]
    },
    {
     "name": "stdout",
     "output_type": "stream",
     "text": [
      "Confusion Matrix for each number:\n",
      "\n",
      "[[ 8  2 36  6 32  1  0  0  3 15]\n",
      " [12  7 19  8 29  0  1  0  0 13]\n",
      " [ 5  2 37  9 41  0  0  0  4  2]\n",
      " [10  4 36 19 28  1  1  0  0  4]\n",
      " [ 3  5 33 17 30  0  0  0  0  2]\n",
      " [ 4  3 33 16 28  0  0  0  1  1]\n",
      " [ 9  6 46 12 37  1  0  0  1  0]\n",
      " [11  6 25 14 32  2  0  2  1  9]\n",
      " [ 8  8 24  1 24  1  0  1  5 34]\n",
      " [ 8 17 18 16 18  1  1  1  3 26]]\n",
      "\n",
      "Error rate:\n",
      "0.866\n"
     ]
    }
   ],
   "source": [
    "runKnn(k[1])"
   ]
  },
  {
   "cell_type": "code",
   "execution_count": 23,
   "metadata": {},
   "outputs": [
    {
     "name": "stderr",
     "output_type": "stream",
     "text": [
      "C:\\Users\\Dominik\\Anaconda3\\envs\\tensorflow\\lib\\site-packages\\ipykernel_launcher.py:3: DataConversionWarning: A column-vector y was passed when a 1d array was expected. Please change the shape of y to (n_samples, ), for example using ravel().\n",
      "  This is separate from the ipykernel package so we can avoid doing imports until\n"
     ]
    },
    {
     "name": "stdout",
     "output_type": "stream",
     "text": [
      "Confusion Matrix for each number:\n",
      "\n",
      "[[ 2  2 41 10 26  2  0  1  2 17]\n",
      " [ 7  4 26 10 28  0  0  0  0 14]\n",
      " [ 3  1 29 15 49  0  0  0  0  3]\n",
      " [ 0  2 32 25 41  0  1  0  0  2]\n",
      " [ 0  0 31 12 41  0  0  0  2  4]\n",
      " [ 1  1 20 24 37  0  0  1  1  1]\n",
      " [ 1  3 45 11 51  0  0  0  0  1]\n",
      " [ 3  3 25 20 39  1  1  1  2  7]\n",
      " [ 5  3 20  8 31  0  0  2  4 33]\n",
      " [ 2  5 22 14 35  0  0  1  1 29]]\n",
      "\n",
      "Error rate:\n",
      "0.865\n"
     ]
    }
   ],
   "source": [
    "runKnn(k[2])"
   ]
  },
  {
   "cell_type": "markdown",
   "metadata": {},
   "source": [
    "\n",
    "_Sehr hohe error rate aufgrund höherer Komplexität der Bilder_"
   ]
  },
  {
   "cell_type": "markdown",
   "metadata": {},
   "source": [
    "### Auswirkungen verschiedener K\n",
    "mit den genannten K konnten wir anhand der Ergebnisse keine Aussage über ihren Einfluss treffen."
   ]
  },
  {
   "cell_type": "code",
   "execution_count": null,
   "metadata": {},
   "outputs": [],
   "source": []
  }
 ],
 "metadata": {
  "kernelspec": {
   "display_name": "Python 3",
   "language": "python",
   "name": "python3"
  },
  "language_info": {
   "codemirror_mode": {
    "name": "ipython",
    "version": 3
   },
   "file_extension": ".py",
   "mimetype": "text/x-python",
   "name": "python",
   "nbconvert_exporter": "python",
   "pygments_lexer": "ipython3",
   "version": "3.5.6"
  }
 },
 "nbformat": 4,
 "nbformat_minor": 2
}
