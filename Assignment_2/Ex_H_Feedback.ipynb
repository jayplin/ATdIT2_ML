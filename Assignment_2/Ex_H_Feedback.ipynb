{
 "cells": [
  {
   "cell_type": "markdown",
   "metadata": {},
   "source": [
    "# Assignment 1: Aufgabe H\n",
    "## H Feedback\n",
    "_2 points_\n",
    "\n",
    "- How much time did you work on this assignment and how often did you meet?\n",
    "- What was your favourite excercise? Why?\n",
    "- What excercise did you like least? Why?"
   ]
  },
  {
   "cell_type": "markdown",
   "metadata": {},
   "source": [
    "## Q1\n",
    "also zur Abwechslung jetzt mal auf Deutsch: \n",
    "F+G: 12h Aufwand\n",
    "E: eine Woche her, aber wenn ich es mir so anschaue, dann war's nicht so wild :D -> 1h\n",
    "A+B+C: 20h, wobei wir da zu zweir gearbeitet haben und wohl manche Arbeit auch redundant war. Sehr schwer zu schätzen. \n",
    "D+H+Administration: 1 h\n",
    "\n",
    "-> zusammen 34 Stunden. MAn sollte dazu sagen, dass wir das 3er-Team sind. \n",
    "\n",
    "Meetings: Mittagspause 2x, ansonsten eher remote wegen der langen Feiertage, wo alle zuhause waren. Absprache regelmäßig über WhatsApp\n",
    "\n",
    "## Q2\n",
    "\n",
    "die E war nett, da sie klar formuliert war mit klarem Scope und überschaubar. Blieb sogar Zeit für CSV-Spielereien (Wahrheitstabellen als CSV einlesen...)\n",
    "C war schön, weil man nach all der Arbeit eine 98% Accuracy bekommt :D"
   ]
  }
 ],
 "metadata": {
  "kernelspec": {
   "display_name": "Python 3",
   "language": "python",
   "name": "python3"
  },
  "language_info": {
   "codemirror_mode": {
    "name": "ipython",
    "version": 3
   },
   "file_extension": ".py",
   "mimetype": "text/x-python",
   "name": "python",
   "nbconvert_exporter": "python",
   "pygments_lexer": "ipython3",
   "version": "3.6.3"
  }
 },
 "nbformat": 4,
 "nbformat_minor": 2
}
